{
 "cells": [
  {
   "cell_type": "code",
   "execution_count": 15,
   "metadata": {
    "collapsed": false
   },
   "outputs": [],
   "source": [
    "#Esse notebook usa o kernel do R\n",
    "#pacote de webscraping do R\n",
    "library(rvest)\n",
    "#pacote de manipulação de html\n",
    "library(htmltools)"
   ]
  },
  {
   "cell_type": "code",
   "execution_count": 10,
   "metadata": {
    "collapsed": false
   },
   "outputs": [
    {
     "name": "stdout",
     "output_type": "stream",
     "text": [
      "  mat                dep   par uf\n",
      "1   1 ABEL MESQUITA JR.    PDT RR\n",
      "2   2        EDIO LOPES   PMDB RR\n",
      "3   3    CARLOS ANDRADE    PHS RR\n",
      "4   4   HIRAN GONÇALVES    PMN RR\n",
      "5   5 JHONATAN DE JESUS    PRB RR\n",
      "6   6      MARIA HELENA    PSB RR\n"
     ]
    }
   ],
   "source": [
    "#Fiz uma lista com as matrículas para fazer as requests das páginas\n",
    "Lista = read.csv(\"list.csv\",sep=\";\");\n",
    "print(head(Lista));"
   ]
  },
  {
   "cell_type": "code",
   "execution_count": 19,
   "metadata": {
    "collapsed": false
   },
   "outputs": [
    {
     "name": "stdout",
     "output_type": "stream",
     "text": [
      "[1] \"SESSÃ<U+0083>O EXTRAORDINÃRIA NÂº 002 - 03/02/2015\"                                                          \n",
      "[2] \"PEC  NÂº 197/2012\\r\\n\\t\\t\\t\\t\\t\\t\\t\\t\\t - PROPOSTA DE EMENDA Ã<U+0080> CONSTITUIÃ<U+0087>Ã<U+0083>O - SEGUNDO TURNO\"   \n",
      "[3] \"PEC  NÂº 352/2013\\r\\n\\t\\t\\t\\t\\t\\t\\t\\t\\t - REQUERIMENTO DE RETIRADA DE PAUTA\"                                           \n",
      "[4] \"SESSÃ<U+0083>O EXTRAORDINÃRIA NÂº 004 - 05/02/2015\"                                                          \n",
      "[5] \"PDC  NÂº 1410/2013\\r\\n\\t\\t\\t\\t\\t\\t\\t\\t\\t - REQUERIMENTO DE RETIRADA DE PAUTA\"                                          \n"
     ]
    }
   ],
   "source": [
    "#aqui to usando uma matrícula qualquer para testar o scrape da página, ele busca a tabela pelo indentificador css \"tabela-1\"\n",
    "matricula<-14;\n",
    "url <-paste(\"http://www.camara.gov.br/internet/deputado/RelVotacoes.asp?nuLegislatura=55&nuMatricula=\", matricula ,\"&dtInicio=01/02/2015&dtFim=16/07/2015\",sep = \"\");\n",
    "    frontpage <- html(url);\n",
    "    dta <- frontpage %>%  html_node(\".tabela-1\") %>%  html_table(fill=TRUE);\n",
    "   \n",
    "    #Aqui tem um problema de enconding da página não sei ainda como resolver.\n",
    "    #as diversas colunas dessa tabela estão com encoding diferentes.\n",
    "\n",
    "\n",
    "    print(head(dta[1:5,2]));"
   ]
  },
  {
   "cell_type": "code",
   "execution_count": null,
   "metadata": {
    "collapsed": true
   },
   "outputs": [],
   "source": []
  }
 ],
 "metadata": {
  "kernelspec": {
   "display_name": "R",
   "language": "R",
   "name": "ir"
  },
  "language_info": {
   "codemirror_mode": "r",
   "file_extension": ".r",
   "mimetype": "text/x-r-source",
   "name": "R",
   "pygments_lexer": "r",
   "version": "3.1.3"
  }
 },
 "nbformat": 4,
 "nbformat_minor": 0
}
